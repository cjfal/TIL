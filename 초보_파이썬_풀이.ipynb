{
  "nbformat": 4,
  "nbformat_minor": 0,
  "metadata": {
    "colab": {
      "name": "초보 파이썬 풀이.ipynb",
      "provenance": [],
      "authorship_tag": "ABX9TyNKwNvbOi6vwBuuZVmmV8iw",
      "include_colab_link": true
    },
    "kernelspec": {
      "name": "python3",
      "display_name": "Python 3"
    },
    "language_info": {
      "name": "python"
    }
  },
  "cells": [
    {
      "cell_type": "markdown",
      "metadata": {
        "id": "view-in-github",
        "colab_type": "text"
      },
      "source": [
        "<a href=\"https://colab.research.google.com/github/cjfal/TIL/blob/master/%EC%B4%88%EB%B3%B4_%ED%8C%8C%EC%9D%B4%EC%8D%AC_%ED%92%80%EC%9D%B4.ipynb\" target=\"_parent\"><img src=\"https://colab.research.google.com/assets/colab-badge.svg\" alt=\"Open In Colab\"/></a>"
      ]
    },
    {
      "cell_type": "markdown",
      "source": [
        "# 1.2 Intro"
      ],
      "metadata": {
        "id": "aJwhSwEMsdnW"
      }
    },
    {
      "cell_type": "markdown",
      "source": [
        "변수 = 변수 * 값 형식의 문장은 변수 *= 값으로 줄여서 표현할 수도 있습니다.\n",
        "\n"
      ],
      "metadata": {
        "id": "msDoOBz9sBo0"
      }
    },
    {
      "cell_type": "code",
      "execution_count": null,
      "metadata": {
        "colab": {
          "base_uri": "https://localhost:8080/"
        },
        "id": "or6477j2rqoP",
        "outputId": "74490a03-0167-45be-bbe3-ec6c5aa6dc35"
      },
      "outputs": [
        {
          "output_type": "execute_result",
          "data": {
            "text/plain": [
              "88.0"
            ]
          },
          "metadata": {},
          "execution_count": 1
        }
      ],
      "source": [
        "r = 0.8\n",
        "t = 110\n",
        "r * t"
      ]
    },
    {
      "cell_type": "markdown",
      "source": [
        "# 1.3 리스트(list)"
      ],
      "metadata": {
        "id": "6EPiYWw_sVzL"
      }
    },
    {
      "cell_type": "code",
      "source": [
        "family = ['a','b','c','d']"
      ],
      "metadata": {
        "id": "X0MPwCd1stol"
      },
      "execution_count": null,
      "outputs": []
    },
    {
      "cell_type": "code",
      "source": [
        "len(family)"
      ],
      "metadata": {
        "colab": {
          "base_uri": "https://localhost:8080/"
        },
        "id": "Jv48CColsuFw",
        "outputId": "d2da9681-0d42-4911-fe82-1c9cc9c6ff67"
      },
      "execution_count": null,
      "outputs": [
        {
          "output_type": "execute_result",
          "data": {
            "text/plain": [
              "4"
            ]
          },
          "metadata": {},
          "execution_count": 5
        }
      ]
    },
    {
      "cell_type": "code",
      "source": [
        "family.remove('c')"
      ],
      "metadata": {
        "id": "7hrmweTts3Tw"
      },
      "execution_count": null,
      "outputs": []
    },
    {
      "cell_type": "code",
      "source": [
        "family"
      ],
      "metadata": {
        "colab": {
          "base_uri": "https://localhost:8080/"
        },
        "id": "UbCfFRbbtN1k",
        "outputId": "62e6f26f-3105-46a3-e654-cee78613f067"
      },
      "execution_count": null,
      "outputs": [
        {
          "output_type": "execute_result",
          "data": {
            "text/plain": [
              "['a', 'b', 'd']"
            ]
          },
          "metadata": {},
          "execution_count": 7
        }
      ]
    },
    {
      "cell_type": "markdown",
      "source": [
        "# 1.4 인터프리터와 컴파일러\n",
        "\n",
        "- 한마디 할 때마다 동시통역해주는 방식 : 인터프리트(interpret) 방식\n",
        "- 말하는 것을 처음부터 끝까지 듣고 나서 한꺼번에 바꿔주는 것 : 컴파일(compile) 방식\n"
      ],
      "metadata": {
        "id": "4OMC_g7KtPIr"
      }
    },
    {
      "cell_type": "markdown",
      "source": [
        "# 1.6 파이썬 인터프리터"
      ],
      "metadata": {
        "id": "v0myVbS8tVMP"
      }
    },
    {
      "cell_type": "code",
      "source": [
        "print('직각삼각형 그리기\\n')\n",
        "leg = int(input('변의 길이: '))\n",
        "\n",
        "for i in range(leg):\n",
        "  print('* ' * (i + 1))\n",
        "\n",
        "area = (leg ** 2) / 2\n",
        "print('넓이:', area)"
      ],
      "metadata": {
        "colab": {
          "base_uri": "https://localhost:8080/"
        },
        "id": "J1mwHTwHt7fx",
        "outputId": "8a7356c4-bef9-46c8-b13a-75c8cdcbf409"
      },
      "execution_count": null,
      "outputs": [
        {
          "output_type": "stream",
          "name": "stdout",
          "text": [
            "직각삼각형 그리기\n",
            "\n",
            "변의 길이: 2\n",
            "* \n",
            "* * \n",
            "넓이: 2.0\n"
          ]
        }
      ]
    },
    {
      "cell_type": "code",
      "source": [
        "print('정수의 제곱\\n')\n",
        "leg = int(input('입력: '))\n",
        "\n",
        "squre = leg * leg\n",
        "\n",
        "print('출력:', squre)"
      ],
      "metadata": {
        "colab": {
          "base_uri": "https://localhost:8080/"
        },
        "id": "eAeW5wTouIju",
        "outputId": "9e1beab4-c82e-4a71-c173-b853029797ed"
      },
      "execution_count": null,
      "outputs": [
        {
          "output_type": "stream",
          "name": "stdout",
          "text": [
            "정수의 제곱\n",
            "\n",
            "입력: 3\n",
            "출력: 9\n"
          ]
        }
      ]
    },
    {
      "cell_type": "markdown",
      "source": [
        "# 2장 - 제어구조\n",
        "\n",
        "- while을 사용하는 반복문\n",
        "- 조건문(if-elif-else)\n",
        "- for를 사용하는 반복문"
      ],
      "metadata": {
        "id": "qkDabtFUvw4O"
      }
    },
    {
      "cell_type": "markdown",
      "source": [
        "# 2.1 while을 사용하는 반복문"
      ],
      "metadata": {
        "id": "i50wY1iawWnV"
      }
    },
    {
      "cell_type": "code",
      "source": [
        "num =1"
      ],
      "metadata": {
        "id": "c02z2sQkwqvY"
      },
      "execution_count": null,
      "outputs": []
    },
    {
      "cell_type": "code",
      "source": [
        "#while num <= 100:\n",
        "#  print(num)\n",
        "#  num = num + 1"
      ],
      "metadata": {
        "id": "8bPwlB5_wrjo"
      },
      "execution_count": null,
      "outputs": []
    },
    {
      "cell_type": "markdown",
      "source": [
        "## 연습 문제: 입력받은 숫자만큼 반복하기(while)\n",
        "\n",
        "- input()으로 사용자로부터 정수를 한 개 입력받아, 그 숫자를 숫자 크기만큼 반복해서 출력하는\n",
        "파이썬 스크립트를 작성하세요. 이때 출력 앞에 공백을 한 칸 주어서, 입력과 출력이 구분되게 합\n",
        "니다.\n",
        "- 단, while 문을 사용하세요. "
      ],
      "metadata": {
        "id": "q_aGgts2wxiJ"
      }
    },
    {
      "cell_type": "code",
      "source": [
        "num = int(input('입력: '))\n",
        "\n",
        "i = 0\n",
        "while i < num:\n",
        "  print('' , num)\n",
        "  i = i + 1"
      ],
      "metadata": {
        "colab": {
          "base_uri": "https://localhost:8080/"
        },
        "id": "80CnjqCXxHXR",
        "outputId": "f7fded83-7ab5-4a68-fa3a-20f868e2d6f2"
      },
      "execution_count": null,
      "outputs": [
        {
          "output_type": "stream",
          "name": "stdout",
          "text": [
            "입력: 4\n",
            " 4\n",
            " 4\n",
            " 4\n",
            " 4\n"
          ]
        }
      ]
    },
    {
      "cell_type": "code",
      "source": [
        "num = int(input())\n",
        "\n",
        "i = 0\n",
        "while i < num:\n",
        "    print('', num)\n",
        "    i += 1"
      ],
      "metadata": {
        "colab": {
          "base_uri": "https://localhost:8080/"
        },
        "id": "BiV6VCSAx5ua",
        "outputId": "b76e1d75-415b-45a0-af6f-47bdb3014298"
      },
      "execution_count": null,
      "outputs": [
        {
          "output_type": "stream",
          "name": "stdout",
          "text": [
            "3\n",
            " 3\n",
            " 3\n",
            " 3\n"
          ]
        }
      ]
    },
    {
      "cell_type": "markdown",
      "source": [
        "## 연습 문제: 제곱표(while)\n",
        "- 정수를 한 개 입력받아, 1부터 입력받은 수까지 각각에 대해 제곱을 구해 프린트하는 프로그램을 작성해 보세요. 단, while 문을 사용하세요."
      ],
      "metadata": {
        "id": "ct7cjNutzgmj"
      }
    },
    {
      "cell_type": "code",
      "source": [
        "num = int(input())\n",
        "\n",
        "i = 1\n",
        "while i < num+1:\n",
        "  print(i, i**2)\n",
        "  i = i+1"
      ],
      "metadata": {
        "colab": {
          "base_uri": "https://localhost:8080/"
        },
        "id": "_Ils-cZOzkU5",
        "outputId": "e43567a2-d090-477a-94c0-456c18baf504"
      },
      "execution_count": null,
      "outputs": [
        {
          "output_type": "stream",
          "name": "stdout",
          "text": [
            "5\n",
            "1 1\n",
            "2 4\n",
            "3 9\n",
            "4 16\n",
            "5 25\n"
          ]
        }
      ]
    },
    {
      "cell_type": "markdown",
      "source": [
        "## 연습문제\n",
        "- 고무 공을 100 미터 높이에서 떨어뜨리는데, 이 공은 땅에 닿을 때마다 원래 높이의 3/5 만큼 튀어오릅니다. 공이 열 번 튈 동안, 그때마다 공의 높이를 계산하라."
      ],
      "metadata": {
        "id": "xKFt97Un0UX-"
      }
    },
    {
      "cell_type": "code",
      "source": [
        "top = 100\n",
        "ball = 0\n",
        "while ball < 10:\n",
        "  top = top * 0.6\n",
        "  ball = ball + 1\n",
        "  print(ball , round(top,4))"
      ],
      "metadata": {
        "colab": {
          "base_uri": "https://localhost:8080/"
        },
        "id": "YI3AmoRr0woz",
        "outputId": "e2bbec7f-bdae-41ec-f0db-316008d89ac1"
      },
      "execution_count": null,
      "outputs": [
        {
          "output_type": "stream",
          "name": "stdout",
          "text": [
            "1 60.0\n",
            "2 36.0\n",
            "3 21.6\n",
            "4 12.96\n",
            "5 7.776\n",
            "6 4.6656\n",
            "7 2.7994\n",
            "8 1.6796\n",
            "9 1.0078\n",
            "10 0.6047\n"
          ]
        }
      ]
    },
    {
      "cell_type": "markdown",
      "source": [
        "## 4 연습 문제: 코드를 보고 실행 결과 맞히기\n",
        "다음 코드 를 읽고, 실행 결과를 알아맞혀 보세요.\n",
        "```\n",
        "number = 358\n",
        "\n",
        "rem = rev = 0\n",
        "while number >= 1:\n",
        "  rem = number % 10\n",
        "  rev = rev * 10 + rem\n",
        "  number = number // 10\n",
        "\n",
        "print(rev)\n",
        "```\n"
      ],
      "metadata": {
        "id": "w6MoJ0tr8XJ0"
      }
    },
    {
      "cell_type": "code",
      "source": [
        "number = 358\n",
        "\n",
        "rem = rev = 0\n",
        "while number >= 1:\n",
        "  rem = number % 10\n",
        "  rev = rev * 10 + rem\n",
        "  number = number // 10\n",
        "\n",
        "print(rev)"
      ],
      "metadata": {
        "colab": {
          "base_uri": "https://localhost:8080/"
        },
        "id": "qz6uV0UU9ex5",
        "outputId": "b62c27b4-6b07-4e06-9dd8-5017b958c610"
      },
      "execution_count": null,
      "outputs": [
        {
          "output_type": "stream",
          "name": "stdout",
          "text": [
            "853\n"
          ]
        }
      ]
    },
    {
      "cell_type": "markdown",
      "source": [
        "# 2.2 조건문(if-elif-else)\n"
      ],
      "metadata": {
        "id": "10j0-KyX-t9D"
      }
    },
    {
      "cell_type": "code",
      "source": [
        "a = 1234 * 4\n",
        "b = 13456 / 2"
      ],
      "metadata": {
        "id": "BWhfY6lNBHW6"
      },
      "execution_count": null,
      "outputs": []
    },
    {
      "cell_type": "code",
      "source": [
        "if a > b: \n",
        "  print('a') \n",
        "else:\n",
        "  print('b')"
      ],
      "metadata": {
        "colab": {
          "base_uri": "https://localhost:8080/"
        },
        "id": "Id975mXeESv4",
        "outputId": "1beceec3-765e-4651-d1f4-9aab7baabe41"
      },
      "execution_count": null,
      "outputs": [
        {
          "output_type": "stream",
          "name": "stdout",
          "text": [
            "b\n"
          ]
        }
      ]
    },
    {
      "cell_type": "code",
      "source": [
        "a = 48\n",
        "b = 4\n",
        "\n",
        "if a % b == 0:\n",
        "  print(f'{a}는 {b}로 나누어 떨어집니다.')\n",
        "elif a % b != 0:\n",
        "  print(f'{a}는 {b}로 나누어 떨어지지 않습니다.')\n"
      ],
      "metadata": {
        "colab": {
          "base_uri": "https://localhost:8080/"
        },
        "id": "WyntFpVxEZZv",
        "outputId": "6ff172ec-0062-4502-ccc7-2e22d09866e4"
      },
      "execution_count": null,
      "outputs": [
        {
          "output_type": "stream",
          "name": "stdout",
          "text": [
            "48는 4로 나누어 떨어집니다.\n"
          ]
        }
      ]
    },
    {
      "cell_type": "code",
      "source": [
        "a = 48\n",
        "b = 4\n",
        "\n",
        "if a % b == 0:\n",
        "  print(f'{a}는 {b}로 나누어 떨어집니다.')\n",
        "else:\n",
        "  print(f'{a}는 {b}로 나누어 떨어지지 않습니다.')\n"
      ],
      "metadata": {
        "colab": {
          "base_uri": "https://localhost:8080/"
        },
        "id": "gLNiBduATvIh",
        "outputId": "6c4cf449-34ba-4848-d754-d45b99462ffa"
      },
      "execution_count": null,
      "outputs": [
        {
          "output_type": "stream",
          "name": "stdout",
          "text": [
            "48는 4로 나누어 떨어집니다.\n"
          ]
        }
      ]
    },
    {
      "cell_type": "code",
      "source": [
        "# 10보다 큰 숫자가 들어오면 멈추는 반복문\n",
        "max = 10\n",
        "while True:\n",
        "  num = int(input())\n",
        "  if num > max:\n",
        "    print(num, 'is too big!')\n",
        "  break"
      ],
      "metadata": {
        "colab": {
          "base_uri": "https://localhost:8080/"
        },
        "id": "zjrBgtHxT4D7",
        "outputId": "a2a08a92-f29d-4475-a280-35f2afb8701f"
      },
      "execution_count": null,
      "outputs": [
        {
          "name": "stdout",
          "output_type": "stream",
          "text": [
            "2\n"
          ]
        }
      ]
    },
    {
      "cell_type": "markdown",
      "source": [
        "## 2.2.1 연습 문제: 숫자 읽기(1˜3)\n",
        "\n",
        "- input()을 사용해 사용자로부터 입력받은 숫자를 한글로 출력하는 프로그램을 작성하세요. 단,사용자는 1 이상 3 이하의 정수 중 하나를 입력한다고 가정합니다."
      ],
      "metadata": {
        "id": "jD6wN1gTUGSZ"
      }
    },
    {
      "cell_type": "code",
      "source": [
        "max = 3\n",
        "while True:\n",
        "  num = int(input())\n",
        "  if num > max:\n",
        "    print(num, 'is too big!')\n",
        "  break\n",
        "\n",
        "if num == 1:\n",
        "  print('일')\n",
        "elif num == 2:\n",
        "  print('이')\n",
        "elif num == 3:\n",
        "  print('삼') "
      ],
      "metadata": {
        "colab": {
          "base_uri": "https://localhost:8080/"
        },
        "id": "Xw_FmSGhUR5Q",
        "outputId": "306b6f5f-8306-4422-ea65-5c1453cb9d79"
      },
      "execution_count": null,
      "outputs": [
        {
          "output_type": "stream",
          "name": "stdout",
          "text": [
            "4\n",
            "4 is too big!\n"
          ]
        }
      ]
    },
    {
      "cell_type": "markdown",
      "source": [
        "## 2.2.2 연습 문제: 단위 기호\n",
        "\n",
        "- 길이, 부피, 무게나 금액을 표기할 때 1000을 ‘k’로 표기하곤 합니다. 예를 들어, 3000m는 3km로 표기하는 것이 일반적입니다.\n",
        "\n",
        "- 다음은 입력받은 숫자가 1000보다 크면 1자리부터 100자리까지의 숫자를 생략하고 ‘k’를 붙여주는 파이썬 코드입니다."
      ],
      "metadata": {
        "id": "xwTHU9GyU6tQ"
      }
    },
    {
      "cell_type": "code",
      "source": [
        "num = int(input())\n",
        "result = str(num)\n",
        "\n",
        "if num >= 1000:\n",
        "  result = str(num // 1000) + 'k'\n",
        "elif num >= 0:\n",
        "  pass\n",
        "\n",
        "print(result)"
      ],
      "metadata": {
        "colab": {
          "base_uri": "https://localhost:8080/"
        },
        "id": "WH3N8-bZVHqR",
        "outputId": "9eb6b8d3-90ad-4862-fff2-89a31e0e0f9f"
      },
      "execution_count": null,
      "outputs": [
        {
          "output_type": "stream",
          "name": "stdout",
          "text": [
            "5000\n",
            "5k\n"
          ]
        }
      ]
    },
    {
      "cell_type": "markdown",
      "source": [
        "- 백만 이상의 숫자를 입력받았을 때 1˜10만자리 숫자를 생략하고 ‘M’을 붙여서 출력하게 코드를\n",
        "수정해보세요."
      ],
      "metadata": {
        "id": "FCWHGPTIc8Q-"
      }
    },
    {
      "cell_type": "code",
      "source": [
        "num = int(input())\n",
        "result = str(num)\n",
        "\n",
        "if num >= 1000000:\n",
        "  result = str(num // 1000000) + 'M'\n",
        "elif num >= 0:\n",
        "  pass\n",
        "\n",
        "print(result)"
      ],
      "metadata": {
        "colab": {
          "base_uri": "https://localhost:8080/"
        },
        "id": "Tm9LmT-0cw0h",
        "outputId": "a8eb26d7-281c-4f0f-fc5e-84b33afe6d1c"
      },
      "execution_count": null,
      "outputs": [
        {
          "output_type": "stream",
          "name": "stdout",
          "text": [
            "8000000\n",
            "8M\n"
          ]
        }
      ]
    },
    {
      "cell_type": "markdown",
      "source": [
        "## 2.2.3 연습 문제: 양수만 덧셈하기\n",
        "\n",
        "- input()으로 사용자로부터 입력받은 정수를 계속 더해나가다가, 음수가 입력되면 중단하고 그 전까지 계산한 값을 출력하는 파이썬 스크립트를 작성하세요.\n"
      ],
      "metadata": {
        "id": "6rm1D1OjdCEF"
      }
    },
    {
      "cell_type": "code",
      "source": [
        "sum = 0\n",
        "while True:\n",
        "    num = int(input())\n",
        "    if num < 0:\n",
        "        break\n",
        "    else:\n",
        "       sum += num\n",
        "\n",
        "print(sum)"
      ],
      "metadata": {
        "colab": {
          "base_uri": "https://localhost:8080/"
        },
        "id": "aLCfm18idVwJ",
        "outputId": "8da10fa7-c918-4aab-9dcf-fa631d6bd327"
      },
      "execution_count": null,
      "outputs": [
        {
          "output_type": "stream",
          "name": "stdout",
          "text": [
            "10\n",
            "50\n",
            "60\n",
            "-10\n",
            "120\n"
          ]
        }
      ]
    },
    {
      "cell_type": "markdown",
      "source": [
        "## 2.2.4 연습 문제: 윤년 판별하기\n",
        "\n",
        "문제\n",
        "\n",
        "- 윤년은 역법을 실제 태양년에 맞추기 위해 여분의 하루 또는 월을 끼우는 해입니다. 현재 사용하는 그레고리력의 윤년 규칙은 다음과 같습니다.\n",
        " 1. 서력 기원 연수가 4로 나누어 떨어지는 해는 윤년으로 한다. (1988년, 1992년, 1996년,2004년, 2008년, 2012년, 2016년, 2020년, 2024년, 2028년, 2032년, 2036년, 2040년, 2044년 . . . )\n",
        " 2. 서력 기원 연수가 4, 100으로 나누어 떨어지는 해는 평년으로 한다. (1900년, 2100년, 2200년, 2300년, 2500년. . . )\n",
        " 3. 서력 기원 연수가 4, 100, 400으로 나누어 떨어지는 해는 윤년으로 둔다. (2000년, 2400년. . . )\n",
        "\n",
        " 이 규칙에 따라, 연도를 나타내는 정수를 입력으로 받아서 윤년인지 아닌지 출력하는 프로그램을작성해 보세요"
      ],
      "metadata": {
        "id": "tuemg68Yh_81"
      }
    },
    {
      "cell_type": "code",
      "source": [
        "year = int(input())\n",
        "\n",
        "if year % 4 != 0 :\n",
        "  print('평년')\n",
        "elif year % 100 != 0:\n",
        "  print('윤년')\n",
        "elif year % 400 != 0:\n",
        "  print('평년')\n",
        "else:\n",
        "  print('윤년')\n",
        "\n"
      ],
      "metadata": {
        "colab": {
          "base_uri": "https://localhost:8080/"
        },
        "id": "wQubiJKpiSsn",
        "outputId": "3bf774f4-01c9-408c-b7b0-ab6357993c09"
      },
      "execution_count": null,
      "outputs": [
        {
          "output_type": "stream",
          "name": "stdout",
          "text": [
            "1999\n",
            "평년\n"
          ]
        }
      ]
    },
    {
      "cell_type": "markdown",
      "source": [
        "# 2.3 for를 사용하는 반복문"
      ],
      "metadata": {
        "id": "JrOrh4UBmIQY"
      }
    },
    {
      "cell_type": "code",
      "source": [
        "avengers = ['아이언맨','토르','캡틴아메리카','헐크']"
      ],
      "metadata": {
        "id": "zIEss5Sgoxix"
      },
      "execution_count": null,
      "outputs": []
    },
    {
      "cell_type": "code",
      "source": [
        "for x in avengers:\n",
        "  print(x, len(x))"
      ],
      "metadata": {
        "colab": {
          "base_uri": "https://localhost:8080/"
        },
        "id": "Uu1KqzXlo_CE",
        "outputId": "f9adf81f-677a-4fae-8fd5-657b1a1832f4"
      },
      "execution_count": null,
      "outputs": [
        {
          "output_type": "stream",
          "name": "stdout",
          "text": [
            "아이언맨 4\n",
            "토르 2\n",
            "캡틴아메리카 6\n",
            "헐크 2\n"
          ]
        }
      ]
    },
    {
      "cell_type": "code",
      "source": [
        "list(range(2,7))"
      ],
      "metadata": {
        "colab": {
          "base_uri": "https://localhost:8080/"
        },
        "id": "sBcX2CmdpDTg",
        "outputId": "01969d75-b665-4199-b005-4149a9d8fb2f"
      },
      "execution_count": null,
      "outputs": [
        {
          "output_type": "execute_result",
          "data": {
            "text/plain": [
              "[2, 3, 4, 5, 6]"
            ]
          },
          "metadata": {},
          "execution_count": 76
        }
      ]
    },
    {
      "cell_type": "code",
      "source": [
        "a = [4,5,6,7]\n",
        "for i in a:\n",
        "  print(i)"
      ],
      "metadata": {
        "colab": {
          "base_uri": "https://localhost:8080/"
        },
        "id": "ewHoNC-ZpLIE",
        "outputId": "6f8c6613-6496-409c-dffa-5edee07cf283"
      },
      "execution_count": null,
      "outputs": [
        {
          "output_type": "stream",
          "name": "stdout",
          "text": [
            "4\n",
            "5\n",
            "6\n",
            "7\n"
          ]
        }
      ]
    },
    {
      "cell_type": "code",
      "source": [
        "for i in range(4,8):\n",
        "  print(i)"
      ],
      "metadata": {
        "colab": {
          "base_uri": "https://localhost:8080/"
        },
        "id": "W6cZxB66pf7l",
        "outputId": "b251b840-3614-402b-d11f-ba84bb997a4e"
      },
      "execution_count": null,
      "outputs": [
        {
          "output_type": "stream",
          "name": "stdout",
          "text": [
            "4\n",
            "5\n",
            "6\n",
            "7\n"
          ]
        }
      ]
    },
    {
      "cell_type": "markdown",
      "source": [
        "## 2.3.1 연습 문제: 입력받은 숫자만큼 반복하기(for)\n",
        "문제\n",
        "- 2.1.1 연습 문제와 같이, 사용자로부터 input()으로 정수를 한 개 입력받아, 그 숫자를 숫자 크기만큼 반복해서 출력하는 파이썬 스크립트를 작성하세요. 이때 출력 앞에 공백을 한 칸 주어서,입력과 출력이 구분되게 합니다.\n",
        "\n",
        "- 단, 이번에는 for 문을 사용하세요."
      ],
      "metadata": {
        "id": "-jZn9IKZpj7D"
      }
    },
    {
      "cell_type": "code",
      "source": [
        "num = int(input())\n",
        "\n",
        "for i in range(num):\n",
        "    print('', num)"
      ],
      "metadata": {
        "colab": {
          "base_uri": "https://localhost:8080/"
        },
        "id": "DWurOh1hprPa",
        "outputId": "eaefa784-11b7-4fbd-df3b-c7737c1d930c"
      },
      "execution_count": null,
      "outputs": [
        {
          "output_type": "stream",
          "name": "stdout",
          "text": [
            "5\n",
            " 5\n",
            " 5\n",
            " 5\n",
            " 5\n",
            " 5\n"
          ]
        }
      ]
    },
    {
      "cell_type": "code",
      "source": [
        "list(range(num))"
      ],
      "metadata": {
        "colab": {
          "base_uri": "https://localhost:8080/"
        },
        "id": "_gAxgmnqp4Zz",
        "outputId": "5b908a91-c7ad-4d2a-835c-973ea71b1140"
      },
      "execution_count": null,
      "outputs": [
        {
          "output_type": "execute_result",
          "data": {
            "text/plain": [
              "[0, 1, 2, 3, 4]"
            ]
          },
          "metadata": {},
          "execution_count": 88
        }
      ]
    },
    {
      "cell_type": "markdown",
      "source": [
        "## 2.3.2 연습 문제: 제곱표(for)\n",
        "문제\n",
        "- 연습 문제 2.2와 같이, 정수를 한 개 입력받아 1부터 입력받은 수까지 각각에 대해 제곱을 구해프린트하는 프로그램을 작성해 보세요. 단, 이번에는 for 문을 사용하세요."
      ],
      "metadata": {
        "id": "mkDBMDjMq1cF"
      }
    },
    {
      "cell_type": "code",
      "source": [
        "num = int(input())\n",
        "\n",
        "for i in range(num):\n",
        "  print(i ** i)"
      ],
      "metadata": {
        "colab": {
          "base_uri": "https://localhost:8080/"
        },
        "id": "dkDkdiD-rrg3",
        "outputId": "cd1d989d-7257-4670-90ff-a752bd349845"
      },
      "execution_count": null,
      "outputs": [
        {
          "output_type": "stream",
          "name": "stdout",
          "text": [
            "5\n",
            "3125\n",
            "3125\n",
            "3125\n",
            "3125\n",
            "3125\n"
          ]
        }
      ]
    },
    {
      "cell_type": "markdown",
      "source": [
        "## 3.1.1 연습 문제: 구구단"
      ],
      "metadata": {
        "id": "O4hnuoL2r1KG"
      }
    },
    {
      "cell_type": "code",
      "execution_count": null,
      "metadata": {
        "id": "AafaoujE0ukK"
      },
      "outputs": [],
      "source": [
        "def gugudan_all():\n",
        "  for i in range(m,10):\n",
        "    for j in range(1, 10):\n",
        "      print(i , '*' , j , '=' ,i * j)"
      ]
    },
    {
      "cell_type": "code",
      "source": [
        "def gugudan_num(m):\n",
        "  for j in range(1, 10):\n",
        "    print(m , '*' , j , '=' ,m * j)"
      ],
      "metadata": {
        "id": "_WZgHK291ivx"
      },
      "execution_count": null,
      "outputs": []
    },
    {
      "cell_type": "code",
      "source": [
        "gugudan_num(3)"
      ],
      "metadata": {
        "colab": {
          "base_uri": "https://localhost:8080/"
        },
        "id": "saM5Ig262a8h",
        "outputId": "3b05846c-fdbc-4ac1-a0e3-ce1c13963700"
      },
      "execution_count": null,
      "outputs": [
        {
          "output_type": "stream",
          "name": "stdout",
          "text": [
            "3 * 1 = 3\n",
            "3 * 2 = 6\n",
            "3 * 3 = 9\n",
            "3 * 4 = 12\n",
            "3 * 5 = 15\n",
            "3 * 6 = 18\n",
            "3 * 7 = 21\n",
            "3 * 8 = 24\n",
            "3 * 9 = 27\n"
          ]
        }
      ]
    },
    {
      "cell_type": "code",
      "source": [
        "for i in range(2,10):\n",
        "    for j in range(1, 10):\n",
        "      print(i , '*' , j ,i * j)"
      ],
      "metadata": {
        "colab": {
          "base_uri": "https://localhost:8080/"
        },
        "id": "88vQq1Bh01vT",
        "outputId": "5f2a8e1f-3131-4d5b-96ef-3caeacdaab73"
      },
      "execution_count": null,
      "outputs": [
        {
          "output_type": "stream",
          "name": "stdout",
          "text": [
            "2 * 1 2\n",
            "2 * 2 4\n",
            "2 * 3 6\n",
            "2 * 4 8\n",
            "2 * 5 10\n",
            "2 * 6 12\n",
            "2 * 7 14\n",
            "2 * 8 16\n",
            "2 * 9 18\n",
            "3 * 1 3\n",
            "3 * 2 6\n",
            "3 * 3 9\n",
            "3 * 4 12\n",
            "3 * 5 15\n",
            "3 * 6 18\n",
            "3 * 7 21\n",
            "3 * 8 24\n",
            "3 * 9 27\n",
            "4 * 1 4\n",
            "4 * 2 8\n",
            "4 * 3 12\n",
            "4 * 4 16\n",
            "4 * 5 20\n",
            "4 * 6 24\n",
            "4 * 7 28\n",
            "4 * 8 32\n",
            "4 * 9 36\n",
            "5 * 1 5\n",
            "5 * 2 10\n",
            "5 * 3 15\n",
            "5 * 4 20\n",
            "5 * 5 25\n",
            "5 * 6 30\n",
            "5 * 7 35\n",
            "5 * 8 40\n",
            "5 * 9 45\n",
            "6 * 1 6\n",
            "6 * 2 12\n",
            "6 * 3 18\n",
            "6 * 4 24\n",
            "6 * 5 30\n",
            "6 * 6 36\n",
            "6 * 7 42\n",
            "6 * 8 48\n",
            "6 * 9 54\n",
            "7 * 1 7\n",
            "7 * 2 14\n",
            "7 * 3 21\n",
            "7 * 4 28\n",
            "7 * 5 35\n",
            "7 * 6 42\n",
            "7 * 7 49\n",
            "7 * 8 56\n",
            "7 * 9 63\n",
            "8 * 1 8\n",
            "8 * 2 16\n",
            "8 * 3 24\n",
            "8 * 4 32\n",
            "8 * 5 40\n",
            "8 * 6 48\n",
            "8 * 7 56\n",
            "8 * 8 64\n",
            "8 * 9 72\n",
            "9 * 1 9\n",
            "9 * 2 18\n",
            "9 * 3 27\n",
            "9 * 4 36\n",
            "9 * 5 45\n",
            "9 * 6 54\n",
            "9 * 7 63\n",
            "9 * 8 72\n",
            "9 * 9 81\n"
          ]
        }
      ]
    },
    {
      "cell_type": "markdown",
      "source": [
        "# 3.2 반환(return) 문"
      ],
      "metadata": {
        "id": "krfBRnXfWEED"
      }
    },
    {
      "cell_type": "code",
      "source": [
        "def tri(m,n):\n",
        "  return (m * n / 2) "
      ],
      "metadata": {
        "id": "2pvw_Bme2aAj"
      },
      "execution_count": null,
      "outputs": []
    },
    {
      "cell_type": "code",
      "source": [
        "tri (3, 4)"
      ],
      "metadata": {
        "colab": {
          "base_uri": "https://localhost:8080/"
        },
        "id": "axDA1YLm1FNh",
        "outputId": "fb6989d4-2379-480a-d793-56e96edaa125"
      },
      "execution_count": null,
      "outputs": [
        {
          "output_type": "execute_result",
          "data": {
            "text/plain": [
              "6.0"
            ]
          },
          "metadata": {},
          "execution_count": 22
        }
      ]
    },
    {
      "cell_type": "code",
      "source": [
        "def quiz():\n",
        "  ans = input('1+2= ')\n",
        "  return 1+2 == int(ans)"
      ],
      "metadata": {
        "id": "Hqs-GeXS3r1o"
      },
      "execution_count": null,
      "outputs": []
    },
    {
      "cell_type": "code",
      "source": [
        "quiz()"
      ],
      "metadata": {
        "colab": {
          "base_uri": "https://localhost:8080/"
        },
        "id": "AXch8h8c4aff",
        "outputId": "5d30d771-0d30-4046-ca1b-d81d9aeb84f4"
      },
      "execution_count": null,
      "outputs": [
        {
          "name": "stdout",
          "output_type": "stream",
          "text": [
            "1+2= 3\n"
          ]
        },
        {
          "output_type": "execute_result",
          "data": {
            "text/plain": [
              "True"
            ]
          },
          "metadata": {},
          "execution_count": 24
        }
      ]
    },
    {
      "cell_type": "code",
      "source": [
        "quiz()"
      ],
      "metadata": {
        "colab": {
          "base_uri": "https://localhost:8080/"
        },
        "id": "1LvFnbVk4bVA",
        "outputId": "9124c270-1fd2-4b94-8fac-1559bdd57453"
      },
      "execution_count": null,
      "outputs": [
        {
          "name": "stdout",
          "output_type": "stream",
          "text": [
            "1+2= 5\n"
          ]
        },
        {
          "output_type": "execute_result",
          "data": {
            "text/plain": [
              "False"
            ]
          },
          "metadata": {},
          "execution_count": 25
        }
      ]
    },
    {
      "cell_type": "markdown",
      "source": [
        "## 3.2.1 연습 문제: 숫자 읽기 함수(1˜10)"
      ],
      "metadata": {
        "id": "i-tYnlBZWJHB"
      }
    },
    {
      "cell_type": "code",
      "source": [
        "def korean_number(m):\n",
        "  if m == 1:\n",
        "    return('일')\n",
        "  elif m ==2 :\n",
        "    return('이')\n",
        "  else:\n",
        "    print('1~2의 값을 입력하세요')"
      ],
      "metadata": {
        "id": "bBxZt-c74e3M"
      },
      "execution_count": null,
      "outputs": []
    },
    {
      "cell_type": "code",
      "source": [
        "korean_number(2)"
      ],
      "metadata": {
        "colab": {
          "base_uri": "https://localhost:8080/",
          "height": 35
        },
        "id": "324ZXUER4_IB",
        "outputId": "b6eca8ef-82a0-4795-de0b-abdb271184f9"
      },
      "execution_count": null,
      "outputs": [
        {
          "output_type": "execute_result",
          "data": {
            "text/plain": [
              "'이'"
            ],
            "application/vnd.google.colaboratory.intrinsic+json": {
              "type": "string"
            }
          },
          "metadata": {},
          "execution_count": 27
        }
      ]
    },
    {
      "cell_type": "code",
      "source": [
        "korean_number(3)"
      ],
      "metadata": {
        "colab": {
          "base_uri": "https://localhost:8080/"
        },
        "id": "03sIhWjW5B92",
        "outputId": "46324e44-0ccd-43fb-9596-9afc0ff74d06"
      },
      "execution_count": null,
      "outputs": [
        {
          "output_type": "stream",
          "name": "stdout",
          "text": [
            "1~2의 값을 입력하세요\n"
          ]
        }
      ]
    },
    {
      "cell_type": "markdown",
      "source": [
        "## 3.2.2 연습 문제: 함수 정의하기\n",
        "\n",
        "### 문제 1  다음 triple() 함수를 완성하세요."
      ],
      "metadata": {
        "id": "8ETGX_hEWNy3"
      }
    },
    {
      "cell_type": "code",
      "source": [
        "def triple(x):\n",
        "  return (x * 3)"
      ],
      "metadata": {
        "id": "j_ohTNYG5F8X"
      },
      "execution_count": null,
      "outputs": []
    },
    {
      "cell_type": "code",
      "source": [
        "triple(2)"
      ],
      "metadata": {
        "colab": {
          "base_uri": "https://localhost:8080/"
        },
        "id": "-4l17ysY5qwn",
        "outputId": "e06cb351-61c3-4d29-9396-d54b9dc28f29"
      },
      "execution_count": null,
      "outputs": [
        {
          "output_type": "execute_result",
          "data": {
            "text/plain": [
              "6"
            ]
          },
          "metadata": {},
          "execution_count": 30
        }
      ]
    },
    {
      "cell_type": "code",
      "source": [
        "triple('x')"
      ],
      "metadata": {
        "colab": {
          "base_uri": "https://localhost:8080/",
          "height": 35
        },
        "id": "5O1rikIN5r0C",
        "outputId": "4327dfd4-203c-42c2-d525-8e116ef262ef"
      },
      "execution_count": null,
      "outputs": [
        {
          "output_type": "execute_result",
          "data": {
            "text/plain": [
              "'xxx'"
            ],
            "application/vnd.google.colaboratory.intrinsic+json": {
              "type": "string"
            }
          },
          "metadata": {},
          "execution_count": 32
        }
      ]
    },
    {
      "cell_type": "markdown",
      "source": [
        "### 문제 2\n",
        "- 오늘의 날짜 객체를 구하는 코드는 다음과 같습니다. (코드를 이해하지 못해도 이 문제를 풀 수 있습니다.\n",
        "\n",
        "- 태어난 해를 네 자리 숫자로 입력하면 한국 나이를 반환하는 함수 korean age()를 작성하세요."
      ],
      "metadata": {
        "id": "aRkKU3FhWWgr"
      }
    },
    {
      "cell_type": "code",
      "source": [
        "from datetime import datetime\n",
        "today = datetime.today()\n",
        "today"
      ],
      "metadata": {
        "colab": {
          "base_uri": "https://localhost:8080/"
        },
        "id": "b6Jn_7095sjc",
        "outputId": "e33c755b-143f-4d9d-c412-287265b2952f"
      },
      "execution_count": null,
      "outputs": [
        {
          "output_type": "execute_result",
          "data": {
            "text/plain": [
              "datetime.datetime(2022, 7, 6, 23, 45, 23, 814087)"
            ]
          },
          "metadata": {},
          "execution_count": 34
        }
      ]
    },
    {
      "cell_type": "code",
      "source": [
        " today.year"
      ],
      "metadata": {
        "colab": {
          "base_uri": "https://localhost:8080/"
        },
        "id": "4qpzBOgb54Sv",
        "outputId": "4f09dd8b-131a-4826-878b-55dfc06dc767"
      },
      "execution_count": null,
      "outputs": [
        {
          "output_type": "execute_result",
          "data": {
            "text/plain": [
              "2022"
            ]
          },
          "metadata": {},
          "execution_count": 35
        }
      ]
    },
    {
      "cell_type": "code",
      "source": [
        "def myage():\n",
        "  from datetime import datetime\n",
        "  today = datetime.today()\n",
        "\n",
        "  x = int(input(\"나이를 입력하세요:\"))\n",
        "  \n",
        "  if 1900 > x  or x > (today.year):\n",
        "    print(\"1900~부터의 4자리의 숫자를 입력하세요\")\n",
        "  else:\n",
        "    return ( today.year + 1 - x)"
      ],
      "metadata": {
        "id": "GrSnLw1d58YZ"
      },
      "execution_count": null,
      "outputs": []
    },
    {
      "cell_type": "code",
      "source": [
        "myage()"
      ],
      "metadata": {
        "colab": {
          "base_uri": "https://localhost:8080/"
        },
        "id": "qHxiYckn7Irh",
        "outputId": "a4fd4032-8eba-4320-dabe-7b697a9e7bd1"
      },
      "execution_count": null,
      "outputs": [
        {
          "output_type": "stream",
          "name": "stdout",
          "text": [
            "나이를 입력하세요:1888\n",
            "1900~부터의 4자리의 숫자를 입력하세요\n"
          ]
        }
      ]
    },
    {
      "cell_type": "markdown",
      "source": [
        "## 3.2.3 연습 문제: 이자(단리) 계산"
      ],
      "metadata": {
        "id": "0ujkKdkeWezc"
      }
    },
    {
      "cell_type": "markdown",
      "source": [
        "### 문제 1\n",
        "- 원금(p), 단리 이율(r), 기간(t)이 주어졌을 때 이자를 구하는 함수 simple interest()를 작성\n",
        "하세요."
      ],
      "metadata": {
        "id": "UsWdw2_miNX3"
      }
    },
    {
      "cell_type": "code",
      "source": [
        "def si(p,r,t):\n",
        "  inter = p * r * t\n",
        "  return inter"
      ],
      "metadata": {
        "id": "BiOXqpufWeKa"
      },
      "execution_count": null,
      "outputs": []
    },
    {
      "cell_type": "code",
      "source": [
        "si(10000000,0.03875,5)"
      ],
      "metadata": {
        "colab": {
          "base_uri": "https://localhost:8080/"
        },
        "id": "i0xHiCJfhdda",
        "outputId": "f35a6fcb-1de8-4890-ba06-00d649c4de68"
      },
      "execution_count": null,
      "outputs": [
        {
          "output_type": "execute_result",
          "data": {
            "text/plain": [
              "1937500.0"
            ]
          },
          "metadata": {},
          "execution_count": 6
        }
      ]
    },
    {
      "cell_type": "code",
      "source": [
        "si(1100000,0.05,5/12)"
      ],
      "metadata": {
        "colab": {
          "base_uri": "https://localhost:8080/"
        },
        "id": "Cvk_sNQyiDUM",
        "outputId": "1e16f9eb-a9f7-4925-9456-6d1edaeeabfb"
      },
      "execution_count": null,
      "outputs": [
        {
          "output_type": "execute_result",
          "data": {
            "text/plain": [
              "22916.666666666668"
            ]
          },
          "metadata": {},
          "execution_count": 7
        }
      ]
    },
    {
      "cell_type": "markdown",
      "source": [
        "###문제 2\n",
        "- 원금(p), 단리 이율(r), 기간(t)이 주어졌을 때 원리금을 계산하는 함수 simple interest amount()를\n",
        "작성하세요"
      ],
      "metadata": {
        "id": "-t66aLmGhdp0"
      }
    },
    {
      "cell_type": "code",
      "source": [
        "def sia(p,r,t):\n",
        "  amount = p * (1+ r*t )\n",
        "  return amount"
      ],
      "metadata": {
        "id": "Z1G6l4QdiLDp"
      },
      "execution_count": null,
      "outputs": []
    },
    {
      "cell_type": "code",
      "source": [
        "sia(100000000,0.03875,5)"
      ],
      "metadata": {
        "colab": {
          "base_uri": "https://localhost:8080/"
        },
        "id": "MbDo6waJiygh",
        "outputId": "f8c76095-4b89-4aa7-f1da-88de94defa4b"
      },
      "execution_count": null,
      "outputs": [
        {
          "output_type": "execute_result",
          "data": {
            "text/plain": [
              "119375000.00000001"
            ]
          },
          "metadata": {},
          "execution_count": 11
        }
      ]
    },
    {
      "cell_type": "code",
      "source": [
        "sia(1100000,0.05,5/12)"
      ],
      "metadata": {
        "colab": {
          "base_uri": "https://localhost:8080/"
        },
        "id": "82q5LeqEi3ep",
        "outputId": "91e7ce38-c96d-497b-a6e8-dcfd564f9acf"
      },
      "execution_count": null,
      "outputs": [
        {
          "output_type": "execute_result",
          "data": {
            "text/plain": [
              "1122916.6666666665"
            ]
          },
          "metadata": {},
          "execution_count": 12
        }
      ]
    },
    {
      "cell_type": "markdown",
      "source": [
        "## 3.2.4 연습 문제: 복리 계산\n",
        "\n",
        "- 문제\n",
        "- 복리 예금의 원금(p), 연이율(r), 기간(t), 복리 횟수(n)에 대한 원리금을 계산하는 함수 compound interest amount()를 작성하세요."
      ],
      "metadata": {
        "id": "uzmI9PQ7jAmg"
      }
    },
    {
      "cell_type": "code",
      "source": [
        "def cia(p,r,t,n):\n",
        "  global amount_cia\n",
        "  amount_cia = p* ( 1+ r / n) **(n*t)\n",
        "  return amount_cia"
      ],
      "metadata": {
        "id": "-GsHZ4P9jPcJ"
      },
      "execution_count": null,
      "outputs": []
    },
    {
      "cell_type": "code",
      "source": [
        "cia(1500000,0.043,6,4)"
      ],
      "metadata": {
        "colab": {
          "base_uri": "https://localhost:8080/"
        },
        "id": "5BsN4WVQjx6p",
        "outputId": "b53bf065-29ff-4d00-8505-b7847e205af8"
      },
      "execution_count": null,
      "outputs": [
        {
          "output_type": "execute_result",
          "data": {
            "text/plain": [
              "1938836.8221341055"
            ]
          },
          "metadata": {},
          "execution_count": 25
        }
      ]
    },
    {
      "cell_type": "code",
      "source": [
        "cia(1500000, 0.043, 6, 1/2)"
      ],
      "metadata": {
        "colab": {
          "base_uri": "https://localhost:8080/"
        },
        "id": "0Nyuv0lhjqva",
        "outputId": "70754282-0f0a-4dc9-e60e-339f6fed0f15"
      },
      "execution_count": null,
      "outputs": [
        {
          "output_type": "execute_result",
          "data": {
            "text/plain": [
              "1921236.0840000005"
            ]
          },
          "metadata": {},
          "execution_count": 18
        }
      ]
    },
    {
      "cell_type": "code",
      "source": [
        " amount_cia"
      ],
      "metadata": {
        "colab": {
          "base_uri": "https://localhost:8080/"
        },
        "id": "vxrKteARlI00",
        "outputId": "97035be7-256c-432e-8bed-3c2779caa845"
      },
      "execution_count": null,
      "outputs": [
        {
          "output_type": "execute_result",
          "data": {
            "text/plain": [
              "1938836.8221341055"
            ]
          },
          "metadata": {},
          "execution_count": 26
        }
      ]
    },
    {
      "cell_type": "markdown",
      "source": [
        "# 3.3 지역변수, 전역변수"
      ],
      "metadata": {
        "id": "YDLeG76Vj5nv"
      }
    },
    {
      "cell_type": "code",
      "source": [
        "# global 로 지정 가능"
      ],
      "metadata": {
        "id": "7sfvOOYxj-MY"
      },
      "execution_count": null,
      "outputs": []
    },
    {
      "cell_type": "markdown",
      "source": [
        "# 3.5 람다(lambda)"
      ],
      "metadata": {
        "id": "kIkTCK38lm5b"
      }
    },
    {
      "cell_type": "markdown",
      "source": [
        "- lambda 매개변수 : 표현식\n",
        "\n",
        "- map(함수, 리스트)\n",
        "> 리스트로부터 원소를 하나씩 꺼내서 함수를 적용시킨 다음, 그 결과를 새로운 리스트에 담아준답니다. \n",
        "\n",
        "- reduce(함수, 시퀀스)\n",
        "> 형식은 위와 같구요, 시퀀스(문자열, 리스트, 튜플)의 원소들을 누적적으로(?) 함수에 적용시킨다.\n",
        "\n",
        "- filter(함수, 리스트)\n",
        "> 리스트에 들어있는 원소들을 함수에 적용시켜서 결과가 참인 값들로 새로운 리스트를 만들어줍니다"
      ],
      "metadata": {
        "id": "zugM4z9vlpdS"
      }
    },
    {
      "cell_type": "code",
      "source": [
        " from functools import reduce"
      ],
      "metadata": {
        "id": "6aUc6cOtmHkZ"
      },
      "execution_count": null,
      "outputs": []
    },
    {
      "cell_type": "code",
      "source": [
        " (lambda x,y: x + y)(10, 20)"
      ],
      "metadata": {
        "colab": {
          "base_uri": "https://localhost:8080/"
        },
        "id": "Y3ZvfnQIwQ2R",
        "outputId": "e71ba5f0-3fbe-4f4d-9ae4-6481803a3e92"
      },
      "execution_count": null,
      "outputs": [
        {
          "output_type": "execute_result",
          "data": {
            "text/plain": [
              "30"
            ]
          },
          "metadata": {},
          "execution_count": 29
        }
      ]
    },
    {
      "cell_type": "code",
      "source": [
        " list(map(lambda x: x ** 2, range(5)))"
      ],
      "metadata": {
        "colab": {
          "base_uri": "https://localhost:8080/"
        },
        "id": "l-bHi7UHwQ6C",
        "outputId": "bc0ed1ea-62a0-456a-9d9f-31c1fd8b6cc7"
      },
      "execution_count": null,
      "outputs": [
        {
          "output_type": "execute_result",
          "data": {
            "text/plain": [
              "[0, 1, 4, 9, 16]"
            ]
          },
          "metadata": {},
          "execution_count": 30
        }
      ]
    },
    {
      "cell_type": "code",
      "source": [
        "reduce(lambda x, y: x + y, [0, 1, 2, 3, 4])"
      ],
      "metadata": {
        "colab": {
          "base_uri": "https://localhost:8080/"
        },
        "id": "X359R9kqwPAY",
        "outputId": "9dfd2562-70fa-499e-eeca-ee25e37a9892"
      },
      "execution_count": null,
      "outputs": [
        {
          "output_type": "execute_result",
          "data": {
            "text/plain": [
              "10"
            ]
          },
          "metadata": {},
          "execution_count": 31
        }
      ]
    },
    {
      "cell_type": "code",
      "source": [
        " reduce(lambda x, y: y + x,'abcde')"
      ],
      "metadata": {
        "colab": {
          "base_uri": "https://localhost:8080/",
          "height": 35
        },
        "id": "BB45O7idwX4n",
        "outputId": "ecf1fc85-3003-443c-c48b-c6f7ec2d1bf4"
      },
      "execution_count": null,
      "outputs": [
        {
          "output_type": "execute_result",
          "data": {
            "text/plain": [
              "'edcba'"
            ],
            "application/vnd.google.colaboratory.intrinsic+json": {
              "type": "string"
            }
          },
          "metadata": {},
          "execution_count": 35
        }
      ]
    },
    {
      "cell_type": "code",
      "source": [
        " list(filter(lambda x: x < 5, range(10)))"
      ],
      "metadata": {
        "colab": {
          "base_uri": "https://localhost:8080/"
        },
        "id": "wQblvLIowPCk",
        "outputId": "c4ce664c-ba75-4d36-e77c-c61205621e8e"
      },
      "execution_count": null,
      "outputs": [
        {
          "output_type": "execute_result",
          "data": {
            "text/plain": [
              "[0, 1, 2, 3, 4]"
            ]
          },
          "metadata": {},
          "execution_count": 32
        }
      ]
    },
    {
      "cell_type": "code",
      "source": [
        "list(filter(lambda x: x % 2, range(10)))"
      ],
      "metadata": {
        "colab": {
          "base_uri": "https://localhost:8080/"
        },
        "id": "TIf6Qy_ExJPH",
        "outputId": "24bae552-4780-4a42-b48d-8313f5cc987e"
      },
      "execution_count": null,
      "outputs": [
        {
          "output_type": "execute_result",
          "data": {
            "text/plain": [
              "[1, 3, 5, 7, 9]"
            ]
          },
          "metadata": {},
          "execution_count": 36
        }
      ]
    },
    {
      "cell_type": "markdown",
      "source": [
        "## 3.5.1 연습 문제: 놀이 공원 (1)\n",
        "\n",
        "- 문제\n",
        "> 놀이 기구의 이름과 키 제한을 나타낸 문자열을 입력받아서, 놀이 기구의 이름, 탑승 가능한 키의 하한(下限)과 상한(上限)을 각 행에 출력합니다. 코드는 다음과 작성하며, ch03 폴더 아래에 파일명을 ridereader.py로 저장합니다.\n",
        "\n",
        "```\n",
        "def read(text):\n",
        "# 이곳에 코드를 작성하세요.\n",
        "return ridename, cmmin, cmmax\n",
        "if __name__ == \"__main__\":\n",
        "ridename, cmmin, cmmax = read(input())\n",
        "print(\"이름:\", ridename)\n",
        "print(\"하한:\", cmmin)\n",
        "print(\"상한:\", cmmax)\n",
        "```"
      ],
      "metadata": {
        "id": "ygH41BbBxPXb"
      }
    },
    {
      "cell_type": "code",
      "source": [
        "def read(text):\n",
        "    ridename, limit = map(str.strip, text.split(':'))\n",
        "    \n",
        "    cmmin = cmmax = None\n",
        "    if '~' in limit:\n",
        "      cmmin, cmmax = map(lambda x: int(x.replace('cm', '')), limit.split('~'))\n",
        "    elif \"이상\" in limit:\n",
        "      cmmin = int(limit.split(\"cm\")[0])\n",
        "\n",
        "    return ridename, cmmin, cmmax\n"
      ],
      "metadata": {
        "id": "BjYn5FCNxQeX"
      },
      "execution_count": null,
      "outputs": []
    },
    {
      "cell_type": "code",
      "source": [
        "if __name__ == \"__main__\":\n",
        "  ridename, cmmin, cmmax = read(input())\n",
        "  print(\"이름:\", ridename)\n",
        "  print(\"하한:\", cmmin)\n",
        "  print(\"상한:\", cmmax)"
      ],
      "metadata": {
        "colab": {
          "base_uri": "https://localhost:8080/"
        },
        "id": "tTEq1tNZxnxC",
        "outputId": "39b3d20c-db52-45a9-c8e3-e54d507b9d68"
      },
      "execution_count": null,
      "outputs": [
        {
          "output_type": "stream",
          "name": "stdout",
          "text": [
            "와일드 윙: 100cm 이상\n",
            "이름: 와일드 윙\n",
            "하한: 100\n",
            "상한: None\n"
          ]
        }
      ]
    },
    {
      "cell_type": "markdown",
      "source": [
        "________________________"
      ],
      "metadata": {
        "id": "G_2m0ekN4zAB"
      }
    },
    {
      "cell_type": "markdown",
      "source": [
        "# 4.1 자료형"
      ],
      "metadata": {
        "id": "f3myvn5Byb15"
      }
    },
    {
      "cell_type": "code",
      "source": [
        "type(6)"
      ],
      "metadata": {
        "colab": {
          "base_uri": "https://localhost:8080/"
        },
        "id": "4tQ8yVpb4yam",
        "outputId": "d0f402ae-e865-4269-d41e-917b192eada3"
      },
      "execution_count": 1,
      "outputs": [
        {
          "output_type": "execute_result",
          "data": {
            "text/plain": [
              "int"
            ]
          },
          "metadata": {},
          "execution_count": 1
        }
      ]
    },
    {
      "cell_type": "code",
      "source": [
        "type('A')"
      ],
      "metadata": {
        "colab": {
          "base_uri": "https://localhost:8080/"
        },
        "id": "io6RuMHd4yd3",
        "outputId": "89e9f650-a024-4b63-910a-7a9a1c7b08a7"
      },
      "execution_count": 2,
      "outputs": [
        {
          "output_type": "execute_result",
          "data": {
            "text/plain": [
              "str"
            ]
          },
          "metadata": {},
          "execution_count": 2
        }
      ]
    },
    {
      "cell_type": "code",
      "source": [
        " type(2.8)"
      ],
      "metadata": {
        "colab": {
          "base_uri": "https://localhost:8080/"
        },
        "id": "0opfoSKE4yjR",
        "outputId": "bab27f9f-1e32-4ff1-d155-4f9b213af606"
      },
      "execution_count": 3,
      "outputs": [
        {
          "output_type": "execute_result",
          "data": {
            "text/plain": [
              "float"
            ]
          },
          "metadata": {},
          "execution_count": 3
        }
      ]
    },
    {
      "cell_type": "code",
      "source": [
        " type(3+4j)"
      ],
      "metadata": {
        "colab": {
          "base_uri": "https://localhost:8080/"
        },
        "id": "62j-d2zA4ylo",
        "outputId": "25b32744-e2ed-4c44-83e8-89868662f709"
      },
      "execution_count": 4,
      "outputs": [
        {
          "output_type": "execute_result",
          "data": {
            "text/plain": [
              "complex"
            ]
          },
          "metadata": {},
          "execution_count": 4
        }
      ]
    },
    {
      "cell_type": "markdown",
      "source": [
        "시퀀스"
      ],
      "metadata": {
        "id": "O6G904uD4ynV"
      }
    },
    {
      "cell_type": "code",
      "source": [
        " type(\"Love your Enemies, for they tell you your Faults.\")"
      ],
      "metadata": {
        "colab": {
          "base_uri": "https://localhost:8080/"
        },
        "id": "y5pghQsj6nDE",
        "outputId": "2daba7d9-e539-4fca-9ef3-9c569a5d63f2"
      },
      "execution_count": 5,
      "outputs": [
        {
          "output_type": "execute_result",
          "data": {
            "text/plain": [
              "str"
            ]
          },
          "metadata": {},
          "execution_count": 5
        }
      ]
    },
    {
      "cell_type": "code",
      "source": [
        "type(['love', 'enemy', 'fault'])"
      ],
      "metadata": {
        "colab": {
          "base_uri": "https://localhost:8080/"
        },
        "id": "DyBsY-3H6oFN",
        "outputId": "d314b0e7-e2d5-4900-b439-d8f686b58f52"
      },
      "execution_count": 6,
      "outputs": [
        {
          "output_type": "execute_result",
          "data": {
            "text/plain": [
              "list"
            ]
          },
          "metadata": {},
          "execution_count": 6
        }
      ]
    },
    {
      "cell_type": "code",
      "source": [
        "type(('love', 'enemy', 'fault'))"
      ],
      "metadata": {
        "colab": {
          "base_uri": "https://localhost:8080/"
        },
        "id": "Y_fEJ9ON6tBm",
        "outputId": "8f44f90b-5457-4545-9ec9-f0e7f05b97d0"
      },
      "execution_count": 7,
      "outputs": [
        {
          "output_type": "execute_result",
          "data": {
            "text/plain": [
              "tuple"
            ]
          },
          "metadata": {},
          "execution_count": 7
        }
      ]
    },
    {
      "cell_type": "code",
      "source": [
        "# 매핑\n",
        "type({'one': 1, 'two': 2, 'three': 3})\n"
      ],
      "metadata": {
        "colab": {
          "base_uri": "https://localhost:8080/"
        },
        "id": "hNvvIHb-6wkG",
        "outputId": "65d89c3f-19fc-474f-c303-98a0fb0aabea"
      },
      "execution_count": 8,
      "outputs": [
        {
          "output_type": "execute_result",
          "data": {
            "text/plain": [
              "dict"
            ]
          },
          "metadata": {},
          "execution_count": 8
        }
      ]
    },
    {
      "cell_type": "code",
      "source": [
        "# 불\n",
        "type(False)"
      ],
      "metadata": {
        "colab": {
          "base_uri": "https://localhost:8080/"
        },
        "id": "YNyBm1me7O93",
        "outputId": "8a7b6211-0f47-4e0e-b93c-884b96f31d3a"
      },
      "execution_count": 9,
      "outputs": [
        {
          "output_type": "execute_result",
          "data": {
            "text/plain": [
              "bool"
            ]
          },
          "metadata": {},
          "execution_count": 9
        }
      ]
    },
    {
      "cell_type": "code",
      "source": [
        "# 세트\n",
        "fruits = {'apple', 'banana', 'orange'}"
      ],
      "metadata": {
        "id": "KxOm3AwW7Spg"
      },
      "execution_count": 10,
      "outputs": []
    },
    {
      "cell_type": "markdown",
      "source": [
        "## 4.1.1 연습 문제: 회문 판별 함수 만들기"
      ],
      "metadata": {
        "id": "B7iWpd8S7W-z"
      }
    },
    {
      "cell_type": "code",
      "source": [
        "# 문자열을 슬라이싱 해서, 문자열에 속한 문자들을 거꾸로 배열한 문자열을 얻을 수 있습니다.\n",
        "'Python'[::-1]"
      ],
      "metadata": {
        "colab": {
          "base_uri": "https://localhost:8080/",
          "height": 35
        },
        "id": "kQvzsqxo7-lN",
        "outputId": "845366dc-dbee-46d6-a9ec-8835c3fdf0ad"
      },
      "execution_count": 11,
      "outputs": [
        {
          "output_type": "execute_result",
          "data": {
            "text/plain": [
              "'nohtyP'"
            ],
            "application/vnd.google.colaboratory.intrinsic+json": {
              "type": "string"
            }
          },
          "metadata": {},
          "execution_count": 11
        }
      ]
    },
    {
      "cell_type": "code",
      "source": [
        "# 문자열의 lower() 메서드를 이용해 소문자만으로 이루어진 문자열을 얻을 수 있습니다.\n",
        "'Python'.lower()"
      ],
      "metadata": {
        "colab": {
          "base_uri": "https://localhost:8080/",
          "height": 35
        },
        "id": "3PCTg0-u8C25",
        "outputId": "f1d1341e-1c50-43e3-da20-b105503dd468"
      },
      "execution_count": 12,
      "outputs": [
        {
          "output_type": "execute_result",
          "data": {
            "text/plain": [
              "'python'"
            ],
            "application/vnd.google.colaboratory.intrinsic+json": {
              "type": "string"
            }
          },
          "metadata": {},
          "execution_count": 12
        }
      ]
    },
    {
      "cell_type": "code",
      "source": [
        "# replace() 메서드를 이용해 문자열 일부를 다른 문자열로 바꾼 문자열을 얻을 수 있습니다.\n",
        "'Python'.replace('P', 'J')"
      ],
      "metadata": {
        "colab": {
          "base_uri": "https://localhost:8080/",
          "height": 35
        },
        "id": "6W9ksrs58H9-",
        "outputId": "cea09f5d-bf3a-454b-d4a0-dddd1a98e5ad"
      },
      "execution_count": 13,
      "outputs": [
        {
          "output_type": "execute_result",
          "data": {
            "text/plain": [
              "'Jython'"
            ],
            "application/vnd.google.colaboratory.intrinsic+json": {
              "type": "string"
            }
          },
          "metadata": {},
          "execution_count": 13
        }
      ]
    },
    {
      "cell_type": "markdown",
      "source": [
        "### 문제 1\n",
        "- 주어진 단어가 회문인지 판별하는 함수 palindrome()을 작성하세요. 단, 문자열 입력은 모두 소문자로 이뤄지며 공백을 포함하지 않는다고 가정합니다.\n"
      ],
      "metadata": {
        "id": "SgTzekua8OF0"
      }
    },
    {
      "cell_type": "code",
      "source": [
        "def palindrome(a):\n",
        "  print(a == a[::-1])"
      ],
      "metadata": {
        "id": "XS-ucx2j935_"
      },
      "execution_count": 14,
      "outputs": []
    },
    {
      "cell_type": "code",
      "source": [
        "palindrome(\"anna\")"
      ],
      "metadata": {
        "colab": {
          "base_uri": "https://localhost:8080/"
        },
        "id": "yhRXaF-t-TeV",
        "outputId": "e626fc1b-84d4-4248-fc51-af012bdb81e5"
      },
      "execution_count": 15,
      "outputs": [
        {
          "output_type": "stream",
          "name": "stdout",
          "text": [
            "True\n"
          ]
        }
      ]
    },
    {
      "cell_type": "code",
      "source": [
        "palindrome(\"banana\")"
      ],
      "metadata": {
        "colab": {
          "base_uri": "https://localhost:8080/"
        },
        "id": "YE40IsDl-XSs",
        "outputId": "1897e4bf-613c-411f-9667-fe21fb454e4a"
      },
      "execution_count": 16,
      "outputs": [
        {
          "output_type": "stream",
          "name": "stdout",
          "text": [
            "False\n"
          ]
        }
      ]
    },
    {
      "cell_type": "markdown",
      "source": [
        "### 문제2\n",
        "\n",
        "- 대문자와 소문자가 섞여 있더라도 회문으로 판정하도록 함수를 개선하세요.\n"
      ],
      "metadata": {
        "id": "kKsILBWW-sNa"
      }
    },
    {
      "cell_type": "code",
      "source": [
        "def palindrome1(b):\n",
        "  c = b.lower()\n",
        "  print(c == c[::-1])"
      ],
      "metadata": {
        "id": "G3i4G4bm-alg"
      },
      "execution_count": 17,
      "outputs": []
    },
    {
      "cell_type": "code",
      "source": [
        "palindrome1(\"Anna\")"
      ],
      "metadata": {
        "colab": {
          "base_uri": "https://localhost:8080/"
        },
        "id": "ZUHbpHZP-kwJ",
        "outputId": "d29aed86-00ba-478f-94f2-32a3421e4273"
      },
      "execution_count": 18,
      "outputs": [
        {
          "output_type": "stream",
          "name": "stdout",
          "text": [
            "True\n"
          ]
        }
      ]
    },
    {
      "cell_type": "code",
      "source": [
        "palindrome(\"Anna\")"
      ],
      "metadata": {
        "colab": {
          "base_uri": "https://localhost:8080/"
        },
        "id": "wAcRELex-nVX",
        "outputId": "f37affd1-4f6d-4946-b0eb-19576d0f7bb3"
      },
      "execution_count": 19,
      "outputs": [
        {
          "output_type": "stream",
          "name": "stdout",
          "text": [
            "False\n"
          ]
        }
      ]
    },
    {
      "cell_type": "markdown",
      "source": [
        "### 문제3\n",
        "\n",
        "- 공백이 섞여 있더라도 회문으로 판정하도록 함수를 개선하세요"
      ],
      "metadata": {
        "id": "UBOaIZqi-xdH"
      }
    },
    {
      "cell_type": "code",
      "source": [
        "def palindrome2(b):\n",
        "  c = b.lower()\n",
        "  d = c.replace(' ','')\n",
        "  print(d == d[::-1])"
      ],
      "metadata": {
        "id": "6TkUacIT-qco"
      },
      "execution_count": 20,
      "outputs": []
    },
    {
      "cell_type": "code",
      "source": [
        "palindrome2(\"My gym\")"
      ],
      "metadata": {
        "id": "LvU91JZi_CFO",
        "colab": {
          "base_uri": "https://localhost:8080/"
        },
        "outputId": "a92c4e32-e67c-4385-effe-83efd4a411ac"
      },
      "execution_count": 21,
      "outputs": [
        {
          "output_type": "stream",
          "name": "stdout",
          "text": [
            "True\n"
          ]
        }
      ]
    },
    {
      "cell_type": "markdown",
      "source": [
        "## 4.2 문자열과 리스트"
      ],
      "metadata": {
        "id": "d9e-O-yTn8dH"
      }
    },
    {
      "cell_type": "markdown",
      "source": [
        "- 찾고 싶은 문자의 위치(인덱스) \\\\\n",
        "```문자열이름.find(\"찾고싶은 문자\")```\n",
        "- 공백 지우기 \\\\\n",
        "```문자열이름.rstrip()```\n",
        "- 문자열을 분할한 리스트를 생성하는 split() \\\\\n",
        "```문자열이름.split()```\n",
        "- 리스트맨뒤에 원소 추가 \\\\\n",
        "```리스트이름.append(원하는 원소)```\n",
        "- 리스트를 원소 크기 작은순으로 정렬 \\\\\n",
        "```리스트이름.sort()```\n",
        "- 맨 앞(0번)에 2를 삽입 \\\\\n",
        "```리스트이름.insert(0, 2)```\n",
        "- 4번 원소를 삭제 \\\\\n",
        "```del 리스트이름[4]```\n",
        "- 원소를 삭제할 때 pop()을 사용할 수도 있습니다. pop()은 리스트에서 삭제한 원소를 반환(re\u0002turn)하므로 변수로 받아서 나중에 사용할 수도 있죠. \\\\\n",
        "```a = 리스트이름.pop()```\n",
        "- 원소에 새로운 값을 지정 \\\\\n",
        "``` 리스트이름[인덱스] = 새로운 요소 ```"
      ],
      "metadata": {
        "id": "fDz0KwNln8jn"
      }
    },
    {
      "cell_type": "code",
      "source": [
        "# 성적표 예제 : 리스트 안 리스트를 활용하기\n",
        "\n",
        "chulsu = [90, 85, 70]\n",
        "younghee = [88, 79, 92]\n",
        "yong = [100, 100, 100]\n",
        "minsu = [90, 60, 70]\n",
        "\n",
        "students = [chulsu, younghee, yong, minsu]\n",
        "\n",
        "for scores in students:\n",
        "  total = 0\n",
        "  for s in scores:\n",
        "    total = total + s\n",
        "  average = total / 3\n",
        "  print(scores, total, average)\n"
      ],
      "metadata": {
        "id": "knsJBYr-pW8p",
        "colab": {
          "base_uri": "https://localhost:8080/"
        },
        "outputId": "874161e7-80b1-4a53-da87-cc1a1c87f4c3"
      },
      "execution_count": 22,
      "outputs": [
        {
          "output_type": "stream",
          "name": "stdout",
          "text": [
            "[90, 85, 70] 245 81.66666666666667\n",
            "[88, 79, 92] 259 86.33333333333333\n",
            "[100, 100, 100] 300 100.0\n",
            "[90, 60, 70] 220 73.33333333333333\n"
          ]
        }
      ]
    },
    {
      "cell_type": "markdown",
      "source": [
        "### 4.2.1 연습 문제: 각 자리 숫자의 합을 구하는 함수(리스트를 이용)\n",
        "\n",
        "- 정수 num을 매개변수로 받아 각 자리 숫자(digit)의 합을 계산하는 sumOfDigits() 함수를 작성하세요. 단, 나눗셈을 이용하지 말고 풀어보세요.\n"
      ],
      "metadata": {
        "id": "3hfBkIgOpW-3"
      }
    },
    {
      "cell_type": "code",
      "source": [
        "def sumOfDigits(num):\n",
        "  numlist = list(str(num))\n",
        "  sd = 0\n",
        "  for i in range(len(numlist)):\n",
        "    sd += int(numlist[i])\n",
        "  return sd"
      ],
      "metadata": {
        "id": "MYpTqwehpXAp"
      },
      "execution_count": 27,
      "outputs": []
    },
    {
      "cell_type": "code",
      "source": [
        "sumOfDigits(643)"
      ],
      "metadata": {
        "colab": {
          "base_uri": "https://localhost:8080/"
        },
        "id": "sPqpAxyepXEP",
        "outputId": "0203c86e-6b06-4c7c-bc15-88c110bb8221"
      },
      "execution_count": 28,
      "outputs": [
        {
          "output_type": "execute_result",
          "data": {
            "text/plain": [
              "13"
            ]
          },
          "metadata": {},
          "execution_count": 28
        }
      ]
    },
    {
      "cell_type": "code",
      "source": [
        "sumOfDigits(47253)"
      ],
      "metadata": {
        "colab": {
          "base_uri": "https://localhost:8080/"
        },
        "id": "WmBDLcoUpXGC",
        "outputId": "8322617e-e5b9-4f38-ad6d-a15be9ef0113"
      },
      "execution_count": 29,
      "outputs": [
        {
          "output_type": "execute_result",
          "data": {
            "text/plain": [
              "21"
            ]
          },
          "metadata": {},
          "execution_count": 29
        }
      ]
    },
    {
      "cell_type": "markdown",
      "source": [
        "----"
      ],
      "metadata": {
        "id": "M2OcnGVlpXJQ"
      }
    },
    {
      "cell_type": "markdown",
      "source": [
        "### 4.2.2 연습 문제: 줄기와 잎 그림\n",
        "\n",
        "- 농구팀에 속한 12명의 득점을 다음과 같이 score 리스트로 나타냈습니다.\n",
        "```\n",
        "score = [0, 0, 2, 4, 7, 7, 9]\n",
        "score += [11, 11, 13, 18]\n",
        "score += [20]\n",
        "score\n",
        "```\n",
        "\n",
        "\n",
        "- 문제 1. stem leaf에 데이터를 채우는 프로그램을 작성하세요. 데이터가 채워진 결과는 다음과 같습니다.\n",
        "```\n",
        "stem_leaf\n",
        "[[0, 0, 2, 4, 7, 7, 9], [1, 1, 3, 8], [0]]\n",
        "stem_leaf[0]\n",
        "[0, 0, 2, 4, 7, 7, 9]\n",
        "stem_leaf[1]\n",
        "[1, 1, 3, 8]\n",
        "stem_leaf[2]\n",
        "[0]\n",
        "```"
      ],
      "metadata": {
        "id": "Ax9Mj2krtyVz"
      }
    },
    {
      "cell_type": "code",
      "source": [
        "score = [0, 0, 2, 4, 7, 7, 9]\n",
        "score += [11, 11, 13, 18]\n",
        "score += [20]\n",
        "score"
      ],
      "metadata": {
        "colab": {
          "base_uri": "https://localhost:8080/"
        },
        "id": "Bv7UW2Vsu4Vf",
        "outputId": "53d6a096-92ab-46b9-b880-cf260a8fbbb3"
      },
      "execution_count": 110,
      "outputs": [
        {
          "output_type": "execute_result",
          "data": {
            "text/plain": [
              "[0, 0, 2, 4, 7, 7, 9, 11, 11, 13, 18, 20]"
            ]
          },
          "metadata": {},
          "execution_count": 110
        }
      ]
    },
    {
      "cell_type": "code",
      "source": [
        "# 문제 1\n",
        "score[-1] = score[-1] - 20\n",
        "a = score[1:7]\n",
        "b = score[7:-1]\n",
        "c = score[-1:]\n",
        "\n",
        "for i in range(len(b)):\n",
        "  b[i] = b[i] - 10\n",
        "\n",
        "stem_leaf = [a,b,c]"
      ],
      "metadata": {
        "id": "Mpw_lKy6vCeI"
      },
      "execution_count": 111,
      "outputs": []
    },
    {
      "cell_type": "code",
      "source": [
        "stem_leaf[0]"
      ],
      "metadata": {
        "colab": {
          "base_uri": "https://localhost:8080/"
        },
        "id": "0jnNfqkwyhS6",
        "outputId": "6a892f0a-0737-42d6-d41f-692ac204bb83"
      },
      "execution_count": 112,
      "outputs": [
        {
          "output_type": "execute_result",
          "data": {
            "text/plain": [
              "[0, 2, 4, 7, 7, 9]"
            ]
          },
          "metadata": {},
          "execution_count": 112
        }
      ]
    },
    {
      "cell_type": "code",
      "source": [
        "stem_leaf[1]"
      ],
      "metadata": {
        "colab": {
          "base_uri": "https://localhost:8080/"
        },
        "id": "8KuKlvnLyhmC",
        "outputId": "1770802c-339a-47d6-ddd1-aa32b0050c43"
      },
      "execution_count": 104,
      "outputs": [
        {
          "output_type": "execute_result",
          "data": {
            "text/plain": [
              "[1, 1, 3, 8]"
            ]
          },
          "metadata": {},
          "execution_count": 104
        }
      ]
    },
    {
      "cell_type": "code",
      "source": [
        "stem_leaf[2]"
      ],
      "metadata": {
        "colab": {
          "base_uri": "https://localhost:8080/"
        },
        "id": "cm_aZ4SWzcmI",
        "outputId": "7b44d0a2-11fb-4022-a6cb-491ffa5cc10f"
      },
      "execution_count": 105,
      "outputs": [
        {
          "output_type": "execute_result",
          "data": {
            "text/plain": [
              "[0]"
            ]
          },
          "metadata": {},
          "execution_count": 105
        }
      ]
    },
    {
      "cell_type": "markdown",
      "source": [
        "- 문제 2. stem leaf를 다음과 같은 형태로 프린트하는 프로그램을 작성하세요.\n"
      ],
      "metadata": {
        "id": "dw2UwWZCzj9V"
      }
    },
    {
      "cell_type": "code",
      "source": [
        "for i in range(0,3):\n",
        "  print(\"%d:\"%i, stem_leaf[i])"
      ],
      "metadata": {
        "colab": {
          "base_uri": "https://localhost:8080/"
        },
        "id": "QGdtbwmhzloA",
        "outputId": "133a6e66-bcf7-4db5-9b73-7343160e3422"
      },
      "execution_count": 106,
      "outputs": [
        {
          "output_type": "stream",
          "name": "stdout",
          "text": [
            "0: [0, 2, 4, 7, 7, 9]\n",
            "1: [1, 1, 3, 8]\n",
            "2: [0]\n"
          ]
        }
      ]
    },
    {
      "cell_type": "code",
      "source": [
        "# 풀이\n",
        "for s in score:\n",
        "    d, m = divmod(s, 10)\n",
        "    stem_leaf[d].append(m)"
      ],
      "metadata": {
        "id": "XD9FAAu8z1Rp"
      },
      "execution_count": 107,
      "outputs": []
    },
    {
      "cell_type": "markdown",
      "source": [
        "### 4.2.3 연습 문제: 각 자리 숫자의 합을 구하는 함수(map()을 이용)\n",
        "\n",
        "- 정수 num을 매개변수로 받아 각 자리 숫자(digit)의 합을 계산하는 sumOfDigits() 함수를 작성하세요\n"
      ],
      "metadata": {
        "id": "6kfbUfhb20Eo"
      }
    },
    {
      "cell_type": "code",
      "source": [
        "def sumOfDigits(num):\n",
        "  numlist = list(str(num))\n",
        "  sd = 0\n",
        "  for i in range(len(numlist)):\n",
        "    sd += int(numlist[i])\n",
        "  return sd"
      ],
      "metadata": {
        "id": "33KT44PB20G9"
      },
      "execution_count": null,
      "outputs": []
    },
    {
      "cell_type": "code",
      "source": [
        "def sumOfDigits(num):\n",
        "  return sum(map(int, list(str(num))))"
      ],
      "metadata": {
        "id": "0yyjFIMR20JI"
      },
      "execution_count": 113,
      "outputs": []
    },
    {
      "cell_type": "code",
      "source": [
        "print(sum(map(int, list(str(int(input()))))))"
      ],
      "metadata": {
        "colab": {
          "base_uri": "https://localhost:8080/"
        },
        "id": "Vj0bCXhp20M4",
        "outputId": "69ac9b11-233b-45f4-cdb4-a2caf514727b"
      },
      "execution_count": 114,
      "outputs": [
        {
          "output_type": "stream",
          "name": "stdout",
          "text": [
            "643\n",
            "13\n"
          ]
        }
      ]
    },
    {
      "cell_type": "markdown",
      "source": [
        "### 4.2.4 연습 문제: 소수 구하기\n",
        "\n",
        "- 수작업으로 10 이하의 소수를 구하는 예입니다.\n",
        "\n",
        "```\n",
        "L = list(range(2, 11)) # 찾고자 하는 범위의 자연수를 나열\n",
        "L\n",
        "[2, 3, 4, 5, 6, 7, 8, 9, 10]\n",
        "L.remove(4)\n",
        "L.remove(6)\n",
        "L.remove(8)\n",
        "L.remove(10) # 2의 배수를 지움\n",
        "L.remove(9) # 3의 배수를 지움\n",
        "L # 결과\n",
        "[2, 3, 5, 7]\n",
        "```\n",
        "\n",
        "- 방식으로 찾고자 하는 범위(예: 30 이하)의 소수를 구하는 것이 문제입니다. 수작업으로 하지 말고 반복문을 사용하세요."
      ],
      "metadata": {
        "id": "OSjOW1jh20Rs"
      }
    },
    {
      "cell_type": "code",
      "source": [
        "M = list(range(2, int(input())))\n",
        "L =  []\n",
        "for i in M:\n",
        "  if i % 2 == 0 :\n",
        "    L.append(i)\n",
        "  elif i % 3 == 0 :\n",
        "    L.append(i)\n",
        "  elif i % 5 == 0 :\n",
        "    L.append(i)\n",
        "\n",
        "L = [2,3,5].append(L)\n",
        "\n",
        "print(L)"
      ],
      "metadata": {
        "colab": {
          "base_uri": "https://localhost:8080/"
        },
        "id": "rViT0xIn7aKH",
        "outputId": "dd70cf64-8053-42a5-927f-9a29367774e4"
      },
      "execution_count": 116,
      "outputs": [
        {
          "output_type": "stream",
          "name": "stdout",
          "text": [
            "30\n",
            "None\n"
          ]
        }
      ]
    },
    {
      "cell_type": "code",
      "source": [
        "def prime(n):\n",
        "  L = L2 = list(range(2, n + 1))\n",
        "\n",
        "  for p in L:\n",
        "    if p in L2:\n",
        "      for q in L:\n",
        "        if (q in L2) and (q!=p and q%p==0):\n",
        "          L2.remove(q)\n",
        "\n",
        "  print(L2)\n",
        "\n",
        "if __name__ == '__main__':\n",
        "  prime(int(input()))"
      ],
      "metadata": {
        "colab": {
          "base_uri": "https://localhost:8080/"
        },
        "id": "AG5wD5T0_zQU",
        "outputId": "c42b0cc8-7c2b-4596-ecba-ebf4c36814eb"
      },
      "execution_count": 117,
      "outputs": [
        {
          "output_type": "stream",
          "name": "stdout",
          "text": [
            "30\n",
            "[2, 3, 5, 7, 11, 13, 17, 19, 23, 29]\n"
          ]
        }
      ]
    },
    {
      "cell_type": "markdown",
      "source": [
        "### 4.2.5 연습 문제: 진법 변환\n",
        "\n",
        "- 나눗셈을 이용해 십진수를 이진수로 변환하는 방법은 다음과 같습니다.\n",
        ">십진수를 2로 나눈 몫을 구하고 그 수를 다시 2로 나누는 일을 몫이 0이 될 때까지 반복하고, 각 단계에서 구한 나머지를 거꾸로 쓰면 이진수가 됩니다.\n",
        "\n",
        "- 문제\n",
        "> 십진수를 입력받아 그 숫자에 해당하는 이진수의 각 자리를 리스트로 출력하는 프로그램을 작성하세요. (순서에 유의)"
      ],
      "metadata": {
        "id": "oEWeKrqEtN2Y"
      }
    },
    {
      "cell_type": "code",
      "source": [
        "num = int(input())\n",
        "L = []\n",
        "for i in range(1,num):\n",
        "  L.insert(0,num%2)\n",
        "  num = num//2\n",
        "\n",
        "  if num//2 == 0:\n",
        "    L.insert(0,num%2)\n",
        "    break\n",
        "\n",
        "print(L)"
      ],
      "metadata": {
        "colab": {
          "base_uri": "https://localhost:8080/"
        },
        "id": "dLFBcm5716dB",
        "outputId": "041f74d9-6cae-44ef-dea6-9a67695ceef8"
      },
      "execution_count": 29,
      "outputs": [
        {
          "output_type": "stream",
          "name": "stdout",
          "text": [
            "87\n",
            "[1, 0, 1, 0, 1, 1, 1]\n"
          ]
        }
      ]
    },
    {
      "cell_type": "code",
      "source": [
        "num = int(input())\n",
        "L = []\n",
        "while num//2 > 0 :\n",
        "  L.insert(0,num%2)\n",
        "  num = num//2\n",
        "\n",
        "  if num//2 == 0:\n",
        "    L.insert(0,num%2)\n",
        "\n",
        "print(L)"
      ],
      "metadata": {
        "colab": {
          "base_uri": "https://localhost:8080/"
        },
        "id": "C81OryQq5J6S",
        "outputId": "6d0841ff-9404-4d01-d6da-f99ed2ff0c34"
      },
      "execution_count": 31,
      "outputs": [
        {
          "output_type": "stream",
          "name": "stdout",
          "text": [
            "87\n",
            "[1, 0, 1, 0, 1, 1, 1]\n"
          ]
        }
      ]
    },
    {
      "cell_type": "code",
      "source": [
        "L = []\n",
        "num = 13\n",
        "L.insert(0,num%2)  #1\n",
        "num = num//2   #6\n",
        "L.insert(0,num%2) #0\n",
        "num = num//2   #3\n",
        "L.insert(0,num%2)  #1\n",
        "num = num//2   #1   \n",
        "L.insert(0,num%2)  #1\n",
        "\n",
        "print(L,num//2) "
      ],
      "metadata": {
        "colab": {
          "base_uri": "https://localhost:8080/"
        },
        "id": "5F-9aGi8tN-A",
        "outputId": "20fa4a9f-6fc9-44f5-b9f1-d8ff1b34028d"
      },
      "execution_count": 24,
      "outputs": [
        {
          "output_type": "stream",
          "name": "stdout",
          "text": [
            "[1, 1, 0, 1] 0\n"
          ]
        }
      ]
    },
    {
      "cell_type": "code",
      "source": [
        "# 책 풀이\n",
        "d = int(input())\n",
        "m = d\n",
        "b = []\n",
        "\n",
        "while True:\n",
        "    d, m = divmod(d, 2)\n",
        "    b.insert(0, m)\n",
        "    if d == 0:\n",
        "        break\n",
        "\n",
        "print(b)"
      ],
      "metadata": {
        "id": "4M6SoHCgtN_5"
      },
      "execution_count": null,
      "outputs": []
    },
    {
      "cell_type": "markdown",
      "source": [
        "## 튜플 Tuple"
      ],
      "metadata": {
        "id": "-vUoW3uJtOBs"
      }
    },
    {
      "cell_type": "markdown",
      "source": [
        "튜플을 만들 때는 위와 같이 괄호를 써도 되고 안 써도 됩니다. 다만, 원소가 없는 튜플을 만들때는 괄호를 꼭 써주세요.\n",
        "\n",
        "원소를 하나만 가진 튜플을 만들 땐 원소 뒤에 콤마(,)를 꼭 찍어주시구요.\n",
        "\n",
        "그리고 튜플은 리스트와 달리 원소값을 직접 바꿀 수 없기 때문에, 문자열에서 했던 것처럼 오려\n",
        "붙이는 방법을 써야한다는 것을 알아두세요.\n",
        "\n",
        "튜플을 리스트로, 리스트를 튜플로 쉽게 바꿀 수도 있답니다.\n",
        "\n"
      ],
      "metadata": {
        "id": "4_ZmuWtztODQ"
      }
    },
    {
      "cell_type": "markdown",
      "source": [
        "### 4.3.1 연습 문제: 내일의 날짜 구하기\n",
        "\n",
        "- 문제6\n",
        "사용자로부터 날짜를 나타내는 세 개의 숫자를 입력받습니다.\n",
        "\n",
        "첫 번째 숫자는 연도를 나타내는 네자리 숫자이고, 두 번째 숫자는 월을, 세 번째 숫자는 일을 나타냅니다.\n",
        "\n",
        "입력받은 날짜를 mm/dd/yyyy 형식으로 출력합니다.\n",
        "\n",
        "월을 두 자리 숫자(01, 02, 03, . . . , 12)로,일을 두 자리 숫자(01, 02, 03, . . . , 31)로, 연도를 네 자리 숫자로 나타냅니다.\n",
        "\n",
        "입력받은 날짜의 다음 날에 해당하는 날짜도 같은 형식으로 출력합니다. 단, 윤년은 무시합니다(2월은 항상 28일까지 있다고 가정합니다)"
      ],
      "metadata": {
        "id": "ZaO1Vq_09FlN"
      }
    },
    {
      "cell_type": "code",
      "source": [
        "cld = list(map(int , input().split()))\n",
        "\n",
        "ty = 0\n",
        "tm = 0\n",
        "td = 0\n",
        "\n",
        "if cld[1] == 1 or 3 or 5 or 7 or 8 or 10 or 12 :\n",
        "  if cld[2] == 31 :\n",
        "    tm = cld[1]+1\n",
        "    td = 1\n",
        "    ty = cld[0]\n",
        "    if tm == 13 :\n",
        "      tm = 1\n",
        "      ty = cld[0]+1\n",
        "  else :\n",
        "    tm = cld[1]\n",
        "    td = cld[2] + 1\n",
        "    ty = cld[0]\n",
        "\n",
        "elif cld[1] == 2 :\n",
        "  if cld[2] == 28 :\n",
        "    tm = cld[1]+1\n",
        "    td = 1\n",
        "    ty = cld[0]\n",
        "  else :\n",
        "    tm = cld[1]\n",
        "    td = cld[2] + 1\n",
        "    ty = cld[0]\n",
        "\n",
        "else :\n",
        "  if cld[2] == 30 :\n",
        "    tm = cld[1]+1\n",
        "    td = 1\n",
        "    ty = cld[0]\n",
        "  else :\n",
        "    tm = cld[1]\n",
        "    td = cld[2] + 1\n",
        "    ty = cld[0]\n",
        "\n",
        "tmr = [ty,tm,td]\n",
        "\n",
        "for i in [1,2]:\n",
        "  if cld[i] < 10 :\n",
        "    cld[i] = '0'+str(cld[i])\n",
        "\n",
        "for i in [1,2]:\n",
        "  if tmr[i] < 10 :\n",
        "    tmr[i] = '0'+str(tmr[i])\n",
        "\n",
        "\n",
        "\n",
        "\n",
        "\n",
        "\n",
        "print(cld[1],'/',cld[2],'/',cld[0] , sep=\"\")\n",
        "print(tmr[1],'/',tmr[2],'/',tmr[0] , sep=\"\")"
      ],
      "metadata": {
        "colab": {
          "base_uri": "https://localhost:8080/"
        },
        "id": "YzO4GjZ_9Wpx",
        "outputId": "e8273a2e-ae07-4fea-8d56-622471d26a79"
      },
      "execution_count": 41,
      "outputs": [
        {
          "output_type": "stream",
          "name": "stdout",
          "text": [
            "2018 12 31\n",
            "12/31/2018\n",
            "01/01/2019\n"
          ]
        }
      ]
    },
    {
      "cell_type": "code",
      "source": [
        ""
      ],
      "metadata": {
        "id": "h765N5OT-HHu"
      },
      "execution_count": null,
      "outputs": []
    }
  ]
}